{
 "cells": [
  {
   "cell_type": "code",
   "execution_count": 2,
   "id": "e9d3d8c9-6845-4f33-bebe-98e15b1461c4",
   "metadata": {},
   "outputs": [
    {
     "name": "stdout",
     "output_type": "stream",
     "text": [
      "Матрица А:\n",
      "[[ 1.12801145  0.16621701 -0.96628563  1.22957147]\n",
      " [-1.05139432  0.9385622  -0.0268488  -1.41998236]\n",
      " [ 0.09128997 -0.33036369  0.72501415 -0.39088   ]\n",
      " [-1.68314418 -0.30277047 -0.72130773 -1.51894017]]\n",
      "\n",
      "Собственные значения:\n",
      "[-1.14026233+0.j          0.74073958+0.86676617j  0.74073958-0.86676617j\n",
      "  0.93143081+0.j        ]\n",
      "\n",
      "Собственные векторы:\n",
      "[[ 0.36032117+0.j         -0.71540658+0.j         -0.71540658-0.j\n",
      "  -0.51375525+0.j        ]\n",
      " [-0.37718265+0.j          0.2400665 -0.33033027j  0.2400665 +0.33033027j\n",
      "  -0.73392959+0.j        ]\n",
      " [-0.25505001+0.j          0.20954876+0.33189399j  0.20954876-0.33189399j\n",
      "   0.24274987+0.j        ]\n",
      " [-0.81415686+0.j          0.35755357-0.19883295j  0.35755357+0.19883295j\n",
      "   0.37212284+0.j        ]]\n",
      "\n",
      "Максимальное по модулю собственное значение: (-1.140262328917376+0j)\n",
      "Соответствующий собственный вектор:\n",
      "[ 0.36032117+0.j -0.37718265+0.j -0.25505001+0.j -0.81415686+0.j]\n",
      "Норма соответствующего собственного вектора: 1.0\n"
     ]
    }
   ],
   "source": [
    "import numpy as np\n",
    "\n",
    "# Задайте размер матрицы\n",
    "size = 4\n",
    "\n",
    "# Генерация квадратной матрицы A со случайными элементами\n",
    "A = np.random.normal(0, 1, (size, size))\n",
    "\n",
    "# Нахождение собственных значений и собственных векторов\n",
    "eigenvalues, eigenvectors = np.linalg.eig(A)\n",
    "\n",
    "# Вывод собственных значений и собственных векторов и матрицы\n",
    "print(\"Матрица А:\")\n",
    "print(A)\n",
    "print(\"\\nСобственные значения:\")\n",
    "print(eigenvalues)\n",
    "print(\"\\nСобственные векторы:\")\n",
    "print(eigenvectors)\n",
    "\n",
    "# Нахождение максимального по модулю собственного значения и его индекса\n",
    "max_eigenvalue_index = np.argmax(np.abs(eigenvalues))\n",
    "max_eigenvalue = eigenvalues[max_eigenvalue_index]\n",
    "corresponding_eigenvector = eigenvectors[:, max_eigenvalue_index]\n",
    "\n",
    "# Вычисление нормы соответствующего собственному значению вектора\n",
    "norm = np.linalg.norm(corresponding_eigenvector)\n",
    "\n",
    "# Вывод результата\n",
    "print(\"\\nМаксимальное по модулю собственное значение:\", max_eigenvalue)\n",
    "print(\"Соответствующий собственный вектор:\")\n",
    "print(corresponding_eigenvector)\n",
    "print(\"Норма соответствующего собственного вектора:\", norm)"
   ]
  },
  {
   "cell_type": "code",
   "execution_count": null,
   "id": "d5bc2b40-3cce-49a9-8a69-0146d681a8de",
   "metadata": {},
   "outputs": [],
   "source": []
  }
 ],
 "metadata": {
  "kernelspec": {
   "display_name": "Python 3 (ipykernel)",
   "language": "python",
   "name": "python3"
  },
  "language_info": {
   "codemirror_mode": {
    "name": "ipython",
    "version": 3
   },
   "file_extension": ".py",
   "mimetype": "text/x-python",
   "name": "python",
   "nbconvert_exporter": "python",
   "pygments_lexer": "ipython3",
   "version": "3.12.6"
  }
 },
 "nbformat": 4,
 "nbformat_minor": 5
}

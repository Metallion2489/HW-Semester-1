{
 "cells": [
  {
   "cell_type": "code",
   "execution_count": 1,
   "id": "8aa6803b-80a9-4701-a329-0836874b0a43",
   "metadata": {},
   "outputs": [
    {
     "name": "stdout",
     "output_type": "stream",
     "text": [
      "ri: right\n",
      "“C: “Cogito\n",
      "“G: “Gigni\n",
      "Ac: Accordingly\n",
      "Mi: Michael\n",
      "Ci: City\n",
      "_e: _ens\n",
      "BO: BOOK\n",
      "“f: “formulae”\n",
      "“N: “Necessity\n",
      "SI: SIMPLE\n",
      "ye: years\n",
      "Wh: While\n",
      "ef: effort\n",
      "ph: physical\n",
      "‘A: ‘AS-IS’\n",
      "-a: -a\n",
      "ce: certain\n",
      "si: signalized\n",
      "gr: gratefully\n"
     ]
    }
   ],
   "source": [
    "import requests\n",
    "import random\n",
    "import re\n",
    "url =\"https://gutenberg.org/ebooks/4280.txt.utf-8\"\n",
    "response = requests.get(url)\n",
    "text = response.text\n",
    "word_dict = {}\n",
    "for word in text.split():\n",
    "    word = word.strip(\".,!?:;()[]{}\\\"'\")# Убираем знаки препинания\n",
    "    if len(word) > 1:  # Игнорируем короткие слова\n",
    "        key = word[:2]  # Берем первые два символа\n",
    "        word_dict[key] = word  # Заполняем словарь\n",
    "# Получаем 20 случайных элементов из словаря\n",
    "random_elements = random.sample(list(word_dict.items()), min(20, len(word_dict)))\n",
    "\n",
    "# Выводим элементы\n",
    "for key, value in random_elements:\n",
    "    print(f\"{key}: {value}\")"
   ]
  },
  {
   "cell_type": "code",
   "execution_count": null,
   "id": "2cb47041-0225-4733-be3b-1bf326b9e770",
   "metadata": {},
   "outputs": [],
   "source": []
  }
 ],
 "metadata": {
  "kernelspec": {
   "display_name": "Python 3 (ipykernel)",
   "language": "python",
   "name": "python3"
  },
  "language_info": {
   "codemirror_mode": {
    "name": "ipython",
    "version": 3
   },
   "file_extension": ".py",
   "mimetype": "text/x-python",
   "name": "python",
   "nbconvert_exporter": "python",
   "pygments_lexer": "ipython3",
   "version": "3.12.6"
  }
 },
 "nbformat": 4,
 "nbformat_minor": 5
}
